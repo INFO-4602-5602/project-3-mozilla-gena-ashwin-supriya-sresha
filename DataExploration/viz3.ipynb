{
 "cells": [
  {
   "cell_type": "code",
   "execution_count": 29,
   "metadata": {},
   "outputs": [],
   "source": [
    "import pandas as pd\n",
    "import numpy as np"
   ]
  },
  {
   "cell_type": "code",
   "execution_count": 3,
   "metadata": {},
   "outputs": [
    {
     "name": "stderr",
     "output_type": "stream",
     "text": [
      "/Library/Frameworks/Python.framework/Versions/3.6/lib/python3.6/site-packages/IPython/core/interactiveshell.py:2785: DtypeWarning: Columns (24,25,26,27,28,29,30,31,32,33) have mixed types. Specify dtype option on import or set low_memory=False.\n",
      "  interactivity=interactivity, compiler=compiler, result=result)\n"
     ]
    }
   ],
   "source": [
    "df = pd.read_csv(\"../Data/20171013111831-SurveyExport.csv\",encoding='cp1252')"
   ]
  },
  {
   "cell_type": "code",
   "execution_count": 80,
   "metadata": {},
   "outputs": [
    {
     "name": "stdout",
     "output_type": "stream",
     "text": [
      "{'ultra_nerd': 41316, 'tech_savvy': 48778, 'avg_user': 62984, 'luddite': 28308, '': 0}\n"
     ]
    }
   ],
   "source": [
    "totalcount = 0\n",
    "true_ultra_nerd = 0\n",
    "true_tech_savvy = 0\n",
    "true_avg_user = 0\n",
    "true_luddite = 0\n",
    "pred_ultra_nerd = 0\n",
    "pred_tech_savvy = 0\n",
    "pred_avg_user = 0\n",
    "pred_luddite = 0\n",
    "true = {}\n",
    "pred = {\"ultra_nerd\":0,\"tech_savvy\":0,\"avg_user\":0,\"luddite\":0,\"\":0}\n",
    "nerd={\"Ultra Nerd:  I build my own computers, run my own servers, code my own apps. I‰Ûªm basically Mr. Robot.\":0,\"Technically Savvy:   I know my way around a computer pretty well. When anyone in my family needs technical help, I‰Ûªm the one they call.\":1,\"Average User:   I know enough to get by.\":2,\"Luddite:  Technology scares me! I only use it when I have to.\":3}\n",
    "tc = {}\n",
    "rows = {}\n",
    "check = np.zeros((5,len(df)))\n",
    "stdd = np.zeros(4)\n",
    "for i, row in enumerate(df.itertuples(), 0):\n",
    "    rows[i] = row\n",
    "    true[rows[i][8]] = 0\n",
    "\n",
    "for ii in range(len(df)):\n",
    "    totalcount = 0\n",
    "    row = rows[ii][35:44]\n",
    "    for jj in range(0,9):\n",
    "        if (row[jj].__eq__(\"nan\")) :\n",
    "            continue\n",
    "        else:\n",
    "            totalcount += 1\n",
    "            \n",
    "    nerdlevel = rows[ii][8]\n",
    "    #print(nerdlevel)\n",
    "    if (nerdlevel.__eq__(\"nan\")) :\n",
    "        continue\n",
    "    else:\n",
    "        check[nerd[nerdlevel]][ii] = totalcount\n",
    "    \n",
    "    #true number of people in the diff nerd levels\n",
    "    true[rows[ii][8]] += 1\n",
    "    #predictions as per our standards\n",
    "    if(totalcount >= 6):\n",
    "        pred[\"ultra_nerd\"] += 1\n",
    "    elif(totalcount>=3 and totalcount<6):\n",
    "        pred[\"tech_savvy\"] += 1\n",
    "    elif(totalcount>=1 and totalcount<3):\n",
    "        pred[\"avg_user\"] += 1\n",
    "    else:\n",
    "        pred[\"luddite\"] += 1\n",
    "\n",
    "counts = np.zeros(4)\n",
    "for ii in range(len(df)):\n",
    "    counts[0] += check[0][ii]\n",
    "    counts[1] += check[1][ii]\n",
    "    counts[2] += check[2][ii]\n",
    "    counts[3] += check[3][ii]\n",
    "\n",
    "for ii in range(0,3):\n",
    "#     print(check[ii])\n",
    "    stdd[ii] = np.std(check[ii])\n",
    "\n",
    "# print(stdd)\n",
    "avg = np.zeros(4)\n",
    "avg[0] = counts[0]/true[\"Ultra Nerd:  I build my own computers, run my own servers, code my own apps. I‰Ûªm basically Mr. Robot.\"]\n",
    "avg[1] = counts[1]/true[\"Technically Savvy:   I know my way around a computer pretty well. When anyone in my family needs technical help, I‰Ûªm the one they call.\"]\n",
    "avg[2] = counts[2]/true[\"Average User:   I know enough to get by.\"]\n",
    "avg[3] = counts[3]/true[\"Luddite:  Technology scares me! I only use it when I have to.\"]\n",
    "# min_un = min(checks[])  \n",
    "# print(counts)\n",
    "# print(true)\n",
    "print(pred)\n",
    "#print(check)"
   ]
  },
  {
   "cell_type": "code",
   "execution_count": 133,
   "metadata": {},
   "outputs": [],
   "source": [
    "import json\n",
    "with open('viz3_true.json', 'w') as outfile:\n",
    "    r = json.dump(true,outfile)\n",
    "with open('viz3_pred.json', 'w') as outfile:\n",
    "    r = json.dump(pred,outfile)"
   ]
  },
  {
   "cell_type": "code",
   "execution_count": null,
   "metadata": {},
   "outputs": [],
   "source": [
    "\n"
   ]
  },
  {
   "cell_type": "code",
   "execution_count": null,
   "metadata": {},
   "outputs": [],
   "source": []
  },
  {
   "cell_type": "code",
   "execution_count": null,
   "metadata": {
    "collapsed": true
   },
   "outputs": [],
   "source": []
  }
 ],
 "metadata": {
  "kernelspec": {
   "display_name": "Python 3",
   "language": "python",
   "name": "python3"
  },
  "language_info": {
   "codemirror_mode": {
    "name": "ipython",
    "version": 3
   },
   "file_extension": ".py",
   "mimetype": "text/x-python",
   "name": "python",
   "nbconvert_exporter": "python",
   "pygments_lexer": "ipython3",
   "version": "3.6.5"
  }
 },
 "nbformat": 4,
 "nbformat_minor": 2
}
